{
 "cells": [
  {
   "cell_type": "markdown",
   "id": "ccfaf952-bc9e-4f77-96f3-a210f8ac18b0",
   "metadata": {},
   "source": [
    "# İki Bilinmeyenli Denklem Çözümü"
   ]
  },
  {
   "cell_type": "markdown",
   "id": "e0111ed3-73cc-4ea4-a7bc-92f069dd8199",
   "metadata": {},
   "source": [
    "## 5*x1 + 8*x2 = 14"
   ]
  },
  {
   "cell_type": "markdown",
   "id": "c0bf9d8d-3407-4289-be87-4cf69919bba0",
   "metadata": {},
   "source": [
    "## -3*x1 + 11*x2 = -5"
   ]
  },
  {
   "cell_type": "code",
   "execution_count": 4,
   "id": "bfa3badd-d0fe-4061-98f1-3411817dc55b",
   "metadata": {},
   "outputs": [],
   "source": [
    "import numpy as np #numpy kütüphanesini ekliyoruz"
   ]
  },
  {
   "cell_type": "code",
   "execution_count": 5,
   "id": "310a705e-e083-497d-990e-2d548e550bf3",
   "metadata": {},
   "outputs": [],
   "source": [
    "a = np.array([[5,8],[-3,11]]) #denklemlerin katsayılarını dizi olarak tanımlıyoruz\n",
    "b = np.array([14,-5]) #denklemin sağ tarafındaki sayıları dizi olarak tanımlıyoruz"
   ]
  },
  {
   "cell_type": "code",
   "execution_count": 6,
   "id": "779f7d98-9e89-471f-abfb-54fa987cb981",
   "metadata": {},
   "outputs": [],
   "source": [
    "x = np.linalg.solve(a,b) #numpy kütüphanesinden linalg.solve fonksiyonunu kullanıyoruz"
   ]
  },
  {
   "cell_type": "code",
   "execution_count": 7,
   "id": "5bb77359-bd90-4f66-8750-e562825f2905",
   "metadata": {},
   "outputs": [
    {
     "data": {
      "text/plain": [
       "array([2.4556962 , 0.21518987])"
      ]
     },
     "execution_count": 7,
     "metadata": {},
     "output_type": "execute_result"
    }
   ],
   "source": [
    "x #sonucu yazdırıyoruz"
   ]
  },
  {
   "cell_type": "code",
   "execution_count": null,
   "id": "8743cc72-16a0-49c2-bb44-a981fa25c84b",
   "metadata": {},
   "outputs": [],
   "source": []
  }
 ],
 "metadata": {
  "kernelspec": {
   "display_name": "Python 3 (ipykernel)",
   "language": "python",
   "name": "python3"
  },
  "language_info": {
   "codemirror_mode": {
    "name": "ipython",
    "version": 3
   },
   "file_extension": ".py",
   "mimetype": "text/x-python",
   "name": "python",
   "nbconvert_exporter": "python",
   "pygments_lexer": "ipython3",
   "version": "3.9.12"
  }
 },
 "nbformat": 4,
 "nbformat_minor": 5
}
